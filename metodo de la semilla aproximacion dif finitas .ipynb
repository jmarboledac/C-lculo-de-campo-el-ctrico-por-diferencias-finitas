{
 "cells": [
  {
   "cell_type": "markdown",
   "metadata": {},
   "source": [
    "Aproximación por diferencias finitas para el cálculo de campo eléctrico para geometrías cuadradas "
   ]
  },
  {
   "cell_type": "markdown",
   "metadata": {},
   "source": [
    "# Generar una matriz N+2 x M+2 (Caso de matriz cuadrada/rectangular), se debe afirmar que los puntos están equidistantes y homogeneamente distribuidos.\n",
    "\n",
    "El usuario debe ingresar las dimensiones de la matriz, así como el número de puntos para que el sistema cree la malla."
   ]
  },
  {
   "cell_type": "code",
   "execution_count": 1,
   "metadata": {},
   "outputs": [
    {
     "name": "stdout",
     "output_type": "stream",
     "text": [
      "Ingrese el número de filas equi-espaciados: 5\n",
      "Ingrese el número de columnas equi-espaciados: 5\n",
      "El número de puntos equidistantes a estudiar es:  25\n",
      "La dimensión de su malla es de:  49  contando condiciones de frontera\n"
     ]
    }
   ],
   "source": [
    "import numpy as np\n",
    "\n",
    "n = int(input(\"Ingrese el número de filas equi-espaciados: \"))\n",
    "m = int(input(\"Ingrese el número de columnas equi-espaciados: \"))\n",
    "print(\"El número de puntos equidistantes a estudiar es: \", n*m)\n",
    "print(\"La dimensión de su malla es de: \", (n+2)*(m+2), \" contando condiciones de frontera\")"
   ]
  },
  {
   "cell_type": "markdown",
   "metadata": {},
   "source": [
    "# Definir las condiciones iniciales\n",
    "\n",
    "## ¿Dónde voy a poner el potencial?"
   ]
  },
  {
   "cell_type": "code",
   "execution_count": 2,
   "metadata": {},
   "outputs": [
    {
     "name": "stdout",
     "output_type": "stream",
     "text": [
      "Escriba el # de fronteras a considerar (solo si son distintas de 0): 4\n"
     ]
    }
   ],
   "source": [
    "numero_fronteras = int(input(\"Escriba el # de fronteras a considerar (solo si son distintas de 0): \"))\n",
    "if numero_fronteras == 0 or numero_fronteras > 4:\n",
    "    print(\"Error, el # de fronteras debe ser estar entre 0<numero_fronteras<=4\")\n",
    "    pass"
   ]
  },
  {
   "cell_type": "markdown",
   "metadata": {},
   "source": [
    "## ¿Dónde ubicar las fronteras?"
   ]
  },
  {
   "cell_type": "code",
   "execution_count": 3,
   "metadata": {},
   "outputs": [
    {
     "name": "stdout",
     "output_type": "stream",
     "text": [
      "['arriba', 'abajo', 'izquierda', 'derecha']\n"
     ]
    }
   ],
   "source": [
    "lista_ubicaciones = []\n",
    "if numero_fronteras == 4:\n",
    "    lista_ubicaciones = [\"arriba\", \"abajo\", \"izquierda\", \"derecha\"]\n",
    "else:\n",
    "    for i in range(numero_fronteras):\n",
    "        frontera = str(input(\"Escriba la ubicación (arriba, abajo, izquierda, derecha), recuerde que no puede repetir: \"))\n",
    "        lista_ubicaciones.append(frontera)\n",
    "print(lista_ubicaciones)"
   ]
  },
  {
   "cell_type": "markdown",
   "metadata": {},
   "source": [
    "## Rellenar la matriz"
   ]
  },
  {
   "cell_type": "code",
   "execution_count": 4,
   "metadata": {},
   "outputs": [
    {
     "name": "stdout",
     "output_type": "stream",
     "text": [
      "Ingrese un valor para arriba 100\n",
      "Ingrese un valor para abajo 200\n",
      "Ingrese un valor para izquierda 300\n",
      "Ingrese un valor para derecha 0\n",
      "[100.0, 200.0, 300.0, 0.0]\n"
     ]
    }
   ],
   "source": [
    "lista_numerica = []\n",
    "for i in range(len(lista_ubicaciones)):\n",
    "    valor_numerico = float(input(\"Ingrese un valor para \" + str(lista_ubicaciones[i] + \" \")))\n",
    "    lista_numerica.append(valor_numerico)\n",
    "print(lista_numerica)"
   ]
  },
  {
   "cell_type": "markdown",
   "metadata": {},
   "source": [
    "## Codigo de condicionales que verifica la existencia de palabras en las listas y les asigna su valor numerico."
   ]
  },
  {
   "cell_type": "code",
   "execution_count": 5,
   "metadata": {},
   "outputs": [
    {
     "name": "stdout",
     "output_type": "stream",
     "text": [
      "[[0. 0. 0. 0. 0. 0. 0.]\n",
      " [0. 0. 0. 0. 0. 0. 0.]\n",
      " [0. 0. 0. 0. 0. 0. 0.]\n",
      " [0. 0. 0. 0. 0. 0. 0.]\n",
      " [0. 0. 0. 0. 0. 0. 0.]\n",
      " [0. 0. 0. 0. 0. 0. 0.]\n",
      " [0. 0. 0. 0. 0. 0. 0.]]\n"
     ]
    },
    {
     "data": {
      "text/plain": [
       "array([[300., 100., 100., 100., 100., 100.,   0.],\n",
       "       [300.,   0.,   0.,   0.,   0.,   0.,   0.],\n",
       "       [300.,   0.,   0.,   0.,   0.,   0.,   0.],\n",
       "       [300.,   0.,   0.,   0.,   0.,   0.,   0.],\n",
       "       [300.,   0.,   0.,   0.,   0.,   0.,   0.],\n",
       "       [300.,   0.,   0.,   0.,   0.,   0.,   0.],\n",
       "       [300., 200., 200., 200., 200., 200.,   0.]])"
      ]
     },
     "execution_count": 5,
     "metadata": {},
     "output_type": "execute_result"
    }
   ],
   "source": [
    "matriz_principal = np.zeros((n+2,m+2))\n",
    "\n",
    "print(matriz_principal)\n",
    "\n",
    "if \"arriba\" in lista_ubicaciones:\n",
    "    arriba_ubicacion = lista_ubicaciones.index(\"arriba\")\n",
    "    for i in range(np.shape(matriz_principal)[1]):\n",
    "        matriz_principal[0][i] = lista_numerica[arriba_ubicacion]\n",
    "        \n",
    "if \"abajo\" in lista_ubicaciones:\n",
    "    abajo_ubicacion = lista_ubicaciones.index(\"abajo\")\n",
    "    for i in range(np.shape(matriz_principal)[1]):\n",
    "        matriz_principal[n+1][i] = lista_numerica[abajo_ubicacion]\n",
    "        \n",
    "if \"izquierda\" in lista_ubicaciones:\n",
    "    izquierda_ubicacion = lista_ubicaciones.index(\"izquierda\")\n",
    "    for i in range(np.shape(matriz_principal)[0]):\n",
    "        matriz_principal[i][0] = lista_numerica[izquierda_ubicacion]\n",
    "        \n",
    "if \"derecha\" in lista_ubicaciones:\n",
    "    derecha_ubicacion = lista_ubicaciones.index(\"derecha\")\n",
    "    for i in range(np.shape(matriz_principal)[0]):\n",
    "        matriz_principal[i][m+1] = lista_numerica[derecha_ubicacion]\n",
    "matriz_principal"
   ]
  },
  {
   "cell_type": "code",
   "execution_count": 6,
   "metadata": {},
   "outputs": [
    {
     "name": "stdout",
     "output_type": "stream",
     "text": [
      "[[300. 100. 100. 100. 100. 100.   0.]\n",
      " [300.   1.   2.   3.   4.   5.   0.]\n",
      " [300.   6.   7.   8.   9.  10.   0.]\n",
      " [300.  11.  12.  13.  14.  15.   0.]\n",
      " [300.  16.  17.  18.  19.  20.   0.]\n",
      " [300.  21.  22.  23.  24.  25.   0.]\n",
      " [300. 200. 200. 200. 200. 200.   0.]]\n"
     ]
    }
   ],
   "source": [
    "#ciclo hasta m+1 ya que no toma el valor límite de m con el range()\n",
    "contador = 1.0\n",
    "for i in range(1,n+1):\n",
    "    for j in range(1,m+1):\n",
    "        matriz_principal[i][j]=contador \n",
    "        contador += 1.0\n",
    "print(matriz_principal)"
   ]
  },
  {
   "cell_type": "markdown",
   "metadata": {},
   "source": [
    "# Generar la matriz de coeficientes basados en la placa con voltajes\n",
    "\n",
    "Crear una matriz diagonal de n x m, cuya diagonal principal está compuesta del valor -4 (Laplace)"
   ]
  },
  {
   "cell_type": "code",
   "execution_count": 7,
   "metadata": {},
   "outputs": [
    {
     "data": {
      "text/plain": [
       "(25,)"
      ]
     },
     "execution_count": 7,
     "metadata": {},
     "output_type": "execute_result"
    }
   ],
   "source": [
    "diagonal_principal = np.ones(n*m)*-4.0\n",
    "np.shape(diagonal_principal)"
   ]
  },
  {
   "cell_type": "code",
   "execution_count": 8,
   "metadata": {},
   "outputs": [
    {
     "name": "stdout",
     "output_type": "stream",
     "text": [
      "[[-4.  0.  0.  0.  0.  0.  0.  0.  0.  0.  0.  0.  0.  0.  0.  0.  0.  0.\n",
      "   0.  0.  0.  0.  0.  0.  0.]\n",
      " [ 0. -4.  0.  0.  0.  0.  0.  0.  0.  0.  0.  0.  0.  0.  0.  0.  0.  0.\n",
      "   0.  0.  0.  0.  0.  0.  0.]\n",
      " [ 0.  0. -4.  0.  0.  0.  0.  0.  0.  0.  0.  0.  0.  0.  0.  0.  0.  0.\n",
      "   0.  0.  0.  0.  0.  0.  0.]\n",
      " [ 0.  0.  0. -4.  0.  0.  0.  0.  0.  0.  0.  0.  0.  0.  0.  0.  0.  0.\n",
      "   0.  0.  0.  0.  0.  0.  0.]\n",
      " [ 0.  0.  0.  0. -4.  0.  0.  0.  0.  0.  0.  0.  0.  0.  0.  0.  0.  0.\n",
      "   0.  0.  0.  0.  0.  0.  0.]\n",
      " [ 0.  0.  0.  0.  0. -4.  0.  0.  0.  0.  0.  0.  0.  0.  0.  0.  0.  0.\n",
      "   0.  0.  0.  0.  0.  0.  0.]\n",
      " [ 0.  0.  0.  0.  0.  0. -4.  0.  0.  0.  0.  0.  0.  0.  0.  0.  0.  0.\n",
      "   0.  0.  0.  0.  0.  0.  0.]\n",
      " [ 0.  0.  0.  0.  0.  0.  0. -4.  0.  0.  0.  0.  0.  0.  0.  0.  0.  0.\n",
      "   0.  0.  0.  0.  0.  0.  0.]\n",
      " [ 0.  0.  0.  0.  0.  0.  0.  0. -4.  0.  0.  0.  0.  0.  0.  0.  0.  0.\n",
      "   0.  0.  0.  0.  0.  0.  0.]\n",
      " [ 0.  0.  0.  0.  0.  0.  0.  0.  0. -4.  0.  0.  0.  0.  0.  0.  0.  0.\n",
      "   0.  0.  0.  0.  0.  0.  0.]\n",
      " [ 0.  0.  0.  0.  0.  0.  0.  0.  0.  0. -4.  0.  0.  0.  0.  0.  0.  0.\n",
      "   0.  0.  0.  0.  0.  0.  0.]\n",
      " [ 0.  0.  0.  0.  0.  0.  0.  0.  0.  0.  0. -4.  0.  0.  0.  0.  0.  0.\n",
      "   0.  0.  0.  0.  0.  0.  0.]\n",
      " [ 0.  0.  0.  0.  0.  0.  0.  0.  0.  0.  0.  0. -4.  0.  0.  0.  0.  0.\n",
      "   0.  0.  0.  0.  0.  0.  0.]\n",
      " [ 0.  0.  0.  0.  0.  0.  0.  0.  0.  0.  0.  0.  0. -4.  0.  0.  0.  0.\n",
      "   0.  0.  0.  0.  0.  0.  0.]\n",
      " [ 0.  0.  0.  0.  0.  0.  0.  0.  0.  0.  0.  0.  0.  0. -4.  0.  0.  0.\n",
      "   0.  0.  0.  0.  0.  0.  0.]\n",
      " [ 0.  0.  0.  0.  0.  0.  0.  0.  0.  0.  0.  0.  0.  0.  0. -4.  0.  0.\n",
      "   0.  0.  0.  0.  0.  0.  0.]\n",
      " [ 0.  0.  0.  0.  0.  0.  0.  0.  0.  0.  0.  0.  0.  0.  0.  0. -4.  0.\n",
      "   0.  0.  0.  0.  0.  0.  0.]\n",
      " [ 0.  0.  0.  0.  0.  0.  0.  0.  0.  0.  0.  0.  0.  0.  0.  0.  0. -4.\n",
      "   0.  0.  0.  0.  0.  0.  0.]\n",
      " [ 0.  0.  0.  0.  0.  0.  0.  0.  0.  0.  0.  0.  0.  0.  0.  0.  0.  0.\n",
      "  -4.  0.  0.  0.  0.  0.  0.]\n",
      " [ 0.  0.  0.  0.  0.  0.  0.  0.  0.  0.  0.  0.  0.  0.  0.  0.  0.  0.\n",
      "   0. -4.  0.  0.  0.  0.  0.]\n",
      " [ 0.  0.  0.  0.  0.  0.  0.  0.  0.  0.  0.  0.  0.  0.  0.  0.  0.  0.\n",
      "   0.  0. -4.  0.  0.  0.  0.]\n",
      " [ 0.  0.  0.  0.  0.  0.  0.  0.  0.  0.  0.  0.  0.  0.  0.  0.  0.  0.\n",
      "   0.  0.  0. -4.  0.  0.  0.]\n",
      " [ 0.  0.  0.  0.  0.  0.  0.  0.  0.  0.  0.  0.  0.  0.  0.  0.  0.  0.\n",
      "   0.  0.  0.  0. -4.  0.  0.]\n",
      " [ 0.  0.  0.  0.  0.  0.  0.  0.  0.  0.  0.  0.  0.  0.  0.  0.  0.  0.\n",
      "   0.  0.  0.  0.  0. -4.  0.]\n",
      " [ 0.  0.  0.  0.  0.  0.  0.  0.  0.  0.  0.  0.  0.  0.  0.  0.  0.  0.\n",
      "   0.  0.  0.  0.  0.  0. -4.]]\n"
     ]
    }
   ],
   "source": [
    "matriz_de_coeficientes = np.diag(diagonal_principal)\n",
    "print(matriz_de_coeficientes)"
   ]
  },
  {
   "cell_type": "markdown",
   "metadata": {},
   "source": [
    "## Dada la configuración del sistema es importante conocer el último punto de la submatriz nxm que contiene los voltajes que se busca hallar."
   ]
  },
  {
   "cell_type": "code",
   "execution_count": 9,
   "metadata": {},
   "outputs": [],
   "source": [
    "ultimo_punto = matriz_principal[n][m]"
   ]
  },
  {
   "cell_type": "code",
   "execution_count": 10,
   "metadata": {},
   "outputs": [],
   "source": [
    "ultimo_punto_matriz_coeficientes = matriz_de_coeficientes[(n*m)-1][(n*m)-1]"
   ]
  },
  {
   "cell_type": "markdown",
   "metadata": {},
   "source": [
    "## Algoritmo para extraer los 4 vecinos más próximos de cada uno de los puntos de  voltaje."
   ]
  },
  {
   "cell_type": "code",
   "execution_count": 11,
   "metadata": {},
   "outputs": [
    {
     "name": "stdout",
     "output_type": "stream",
     "text": [
      "el primer voltaje es:  1.0\n",
      "[100.0, 6.0, 300.0, 2.0, 100.0, 7.0, 1.0, 3.0, 100.0, 8.0, 2.0, 4.0, 100.0, 9.0, 3.0, 5.0, 100.0, 10.0, 4.0, 0.0, 1.0, 11.0, 300.0, 7.0, 2.0, 12.0, 6.0, 8.0, 3.0, 13.0, 7.0, 9.0, 4.0, 14.0, 8.0, 10.0, 5.0, 15.0, 9.0, 0.0, 6.0, 16.0, 300.0, 12.0, 7.0, 17.0, 11.0, 13.0, 8.0, 18.0, 12.0, 14.0, 9.0, 19.0, 13.0, 15.0, 10.0, 20.0, 14.0, 0.0, 11.0, 21.0, 300.0, 17.0, 12.0, 22.0, 16.0, 18.0, 13.0, 23.0, 17.0, 19.0, 14.0, 24.0, 18.0, 20.0, 15.0, 25.0, 19.0, 0.0, 16.0, 200.0, 300.0, 22.0, 17.0, 200.0, 21.0, 23.0, 18.0, 200.0, 22.0, 24.0, 19.0, 200.0, 23.0, 25.0, 20.0, 200.0, 24.0, 0.0]\n"
     ]
    }
   ],
   "source": [
    "#Algoritmo simple para extracción de los vecinos del primer punto\n",
    "vecinos = []\n",
    "\n",
    "primer_voltaje = matriz_principal[1][1]\n",
    "print(\"el primer voltaje es: \", primer_voltaje)\n",
    "counter = 0\n",
    "\n",
    "#Ciclo anidado que saca los vecinos y los coloca en una lista, vienen en grupos de 4\n",
    "\n",
    "for j in range(1,n+1):\n",
    "    for i in range(1,m+1):\n",
    "        arriba = matriz_principal[j-1-counter][i] \n",
    "        abajo = matriz_principal[j+1-counter][i]\n",
    "        izquierda = matriz_principal[j-counter][i-1]\n",
    "        derecha = matriz_principal[j-counter][i+1]\n",
    "        counter += 1\n",
    "        if counter % m-1 == 0:\n",
    "            counter = 0\n",
    "        vecinos.append(arriba)\n",
    "        vecinos.append(abajo)\n",
    "        vecinos.append(izquierda)\n",
    "        vecinos.append(derecha)\n",
    "    \n",
    "print(vecinos)"
   ]
  },
  {
   "cell_type": "markdown",
   "metadata": {},
   "source": [
    "## Crear la lista de listas que contiene los vecinos de cada uno de los puntos de voltaje"
   ]
  },
  {
   "cell_type": "code",
   "execution_count": 12,
   "metadata": {},
   "outputs": [
    {
     "name": "stdout",
     "output_type": "stream",
     "text": [
      "[[100.0, 6.0, 300.0, 2.0], [100.0, 7.0, 1.0, 3.0], [100.0, 8.0, 2.0, 4.0], [100.0, 9.0, 3.0, 5.0], [100.0, 10.0, 4.0, 0.0], [1.0, 11.0, 300.0, 7.0], [2.0, 12.0, 6.0, 8.0], [3.0, 13.0, 7.0, 9.0], [4.0, 14.0, 8.0, 10.0], [5.0, 15.0, 9.0, 0.0], [6.0, 16.0, 300.0, 12.0], [7.0, 17.0, 11.0, 13.0], [8.0, 18.0, 12.0, 14.0], [9.0, 19.0, 13.0, 15.0], [10.0, 20.0, 14.0, 0.0], [11.0, 21.0, 300.0, 17.0], [12.0, 22.0, 16.0, 18.0], [13.0, 23.0, 17.0, 19.0], [14.0, 24.0, 18.0, 20.0], [15.0, 25.0, 19.0, 0.0], [16.0, 200.0, 300.0, 22.0], [17.0, 200.0, 21.0, 23.0], [18.0, 200.0, 22.0, 24.0], [19.0, 200.0, 23.0, 25.0], [20.0, 200.0, 24.0, 0.0]]\n"
     ]
    }
   ],
   "source": [
    "#separar la lista en una lista de listas\n",
    "def split_list (lista_entrada, x):\n",
    "   return [lista_entrada[i:i+x] for i in range(0, len(lista_entrada), x)]\n",
    "\n",
    "lista_coeficientes = split_list(vecinos, 4)\n",
    "print(lista_coeficientes)"
   ]
  },
  {
   "cell_type": "code",
   "execution_count": 13,
   "metadata": {},
   "outputs": [
    {
     "data": {
      "text/plain": [
       "array([[0.],\n",
       "       [0.],\n",
       "       [0.],\n",
       "       [0.],\n",
       "       [0.],\n",
       "       [0.],\n",
       "       [0.],\n",
       "       [0.],\n",
       "       [0.],\n",
       "       [0.],\n",
       "       [0.],\n",
       "       [0.],\n",
       "       [0.],\n",
       "       [0.],\n",
       "       [0.],\n",
       "       [0.],\n",
       "       [0.],\n",
       "       [0.],\n",
       "       [0.],\n",
       "       [0.],\n",
       "       [0.],\n",
       "       [0.],\n",
       "       [0.],\n",
       "       [0.],\n",
       "       [0.]])"
      ]
     },
     "execution_count": 13,
     "metadata": {},
     "output_type": "execute_result"
    }
   ],
   "source": [
    "# creación vector p\n",
    "vector_p = np.zeros((n*m,1))\n",
    "vector_p"
   ]
  },
  {
   "cell_type": "code",
   "execution_count": 14,
   "metadata": {},
   "outputs": [
    {
     "name": "stdout",
     "output_type": "stream",
     "text": [
      "100.0\n",
      "200.0\n",
      "300.0\n",
      "0.0\n"
     ]
    }
   ],
   "source": [
    "print(matriz_principal[0][1])\n",
    "print(matriz_principal[n+1][1])\n",
    "print(matriz_principal[1][0])\n",
    "print(matriz_principal[1][m+1])\n"
   ]
  },
  {
   "cell_type": "code",
   "execution_count": 15,
   "metadata": {},
   "outputs": [
    {
     "data": {
      "text/plain": [
       "array([[-400.],\n",
       "       [-100.],\n",
       "       [-100.],\n",
       "       [-100.],\n",
       "       [-100.],\n",
       "       [-300.],\n",
       "       [   0.],\n",
       "       [   0.],\n",
       "       [   0.],\n",
       "       [   0.],\n",
       "       [-300.],\n",
       "       [   0.],\n",
       "       [   0.],\n",
       "       [   0.],\n",
       "       [   0.],\n",
       "       [-300.],\n",
       "       [   0.],\n",
       "       [   0.],\n",
       "       [   0.],\n",
       "       [   0.],\n",
       "       [-500.],\n",
       "       [-200.],\n",
       "       [-200.],\n",
       "       [-200.],\n",
       "       [   0.]])"
      ]
     },
     "execution_count": 15,
     "metadata": {},
     "output_type": "execute_result"
    }
   ],
   "source": [
    "\n",
    "\n",
    "for i in range(0,n*m-1):\n",
    "    sumador=0 \n",
    "    for j in range(0,3):\n",
    "        if lista_coeficientes[i][j]== matriz_principal[0][1] or lista_coeficientes[i][j]== matriz_principal[n+1][1] or lista_coeficientes[i][j]== matriz_principal[1][0] or lista_coeficientes[i][j]== matriz_principal[1][m+1]:\n",
    "            sumador=lista_coeficientes[i][j]+sumador\n",
    "            vector_p[i]=(-1)*sumador\n",
    "vector_p\n",
    "\n"
   ]
  },
  {
   "cell_type": "code",
   "execution_count": 16,
   "metadata": {},
   "outputs": [
    {
     "name": "stdout",
     "output_type": "stream",
     "text": [
      "[[-4.  0.  0.  1.  0.  0.  0.  0.  0.  0.  0.  0.]\n",
      " [ 1. -4.  0.  0.  0.  0.  0.  0.  0.  0.  0.  0.]\n",
      " [ 0.  0. -4.  0.  0.  1.  0.  0.  0.  0.  0.  0.]\n",
      " [ 1.  0.  0. -4.  0.  0.  1.  0.  0.  0.  0.  0.]\n",
      " [ 0.  1.  0.  1. -4.  0.  0.  1.  0.  0.  0.  0.]\n",
      " [ 0.  0.  1.  0.  1. -4.  0.  0.  1.  0.  0.  0.]\n",
      " [ 0.  0.  0.  1.  0.  0. -4.  0.  0.  1.  0.  0.]\n",
      " [ 0.  0.  0.  0.  1.  0.  1. -4.  0.  0.  1.  0.]\n",
      " [ 0.  0.  0.  0.  0.  1.  0.  1. -4.  0.  0.  0.]\n",
      " [ 0.  0.  0.  0.  0.  0.  1.  0.  0. -4.  0.  0.]\n",
      " [ 0.  0.  0.  0.  0.  0.  0.  1.  0.  1. -4.  0.]\n",
      " [ 0.  0.  0.  0.  0.  0.  0.  0.  0.  0.  0. -4.]]\n"
     ]
    }
   ],
   "source": [
    "\n",
    "for i in range(0,n*m-1):\n",
    "    for j in range(0,3):\n",
    "        if i != j and int(lista_coeficientes[i][j])< n*m:\n",
    "            matriz_de_coeficientes[i][int(lista_coeficientes[i][j]-1)]=1\n",
    "        else:\n",
    "            pass\n",
    "            \n",
    "            \n",
    "\n",
    "        \n",
    "print(matriz_de_coeficientes)         \n",
    "\n",
    "           "
   ]
  },
  {
   "cell_type": "code",
   "execution_count": 51,
   "metadata": {},
   "outputs": [
    {
     "data": {
      "text/plain": [
       "array([[  87.5       ],\n",
       "       [-161.76470588],\n",
       "       [-243.75      ],\n",
       "       [-111.76470588],\n",
       "       [-225.        ],\n",
       "       [  47.05882353],\n",
       "       [ 193.75      ],\n",
       "       [  61.76470588],\n",
       "       [ 143.75      ],\n",
       "       [  11.76470588],\n",
       "       [ 125.        ],\n",
       "       [  50.        ],\n",
       "       [  50.        ],\n",
       "       [  50.        ],\n",
       "       [  81.25      ]])"
      ]
     },
     "execution_count": 51,
     "metadata": {},
     "output_type": "execute_result"
    }
   ],
   "source": [
    "import numpy as np\n",
    "Potencial=[]\n",
    "np.linalg.inv( matriz_de_coeficientes)\n",
    "np.dot(np.linalg.inv( matriz_de_coeficientes),vector_p)"
   ]
  },
  {
   "cell_type": "code",
   "execution_count": null,
   "metadata": {},
   "outputs": [],
   "source": []
  }
 ],
 "metadata": {
  "kernelspec": {
   "display_name": "Python 3",
   "language": "python",
   "name": "python3"
  },
  "language_info": {
   "codemirror_mode": {
    "name": "ipython",
    "version": 3
   },
   "file_extension": ".py",
   "mimetype": "text/x-python",
   "name": "python",
   "nbconvert_exporter": "python",
   "pygments_lexer": "ipython3",
   "version": "3.7.3"
  }
 },
 "nbformat": 4,
 "nbformat_minor": 2
}
